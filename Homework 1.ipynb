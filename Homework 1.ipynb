{
 "cells": [
  {
   "cell_type": "markdown",
   "metadata": {},
   "source": [
    "## Introduction:\n",
    "In this assignment I will empirically verify the concept of confidence intervals. A confidence interval is a range of values in which we are confident the true value of a parameter lies in.\n",
    "\n",
    "Specifically, I will be using a Normal distribution with mean $\\mu = 3$ and variance $\\sigma^2 = 25$, i.e. $N(3,25)$.\n",
    "\n",
    "The theoretical $(1-\\alpha)$% confidence interval for a $N(\\mu,\\sigma^2)$ distribution for the parameter $\\mu$ is $\\mu \\pm z_{\\alpha/2}\\frac{\\sigma}{\\sqrt{n}}$ where n is the number of observations in the sample. Furthermore the theoretical $(1-\\alpha)$% confidence interval for the parameter $\\sigma^2$ is $[\\frac{(n-1)\\sigma^2}{\\chi^2_{1-\\alpha/2}},\\frac{(n-1)\\sigma^2}{\\chi^2_{\\alpha/2}}]$ where $\\chi^2$ has n-1 degrees of freedom.\n",
    "\n",
    "I will generate 100 random samples of 1000 observations (n=1000) in order to see how many times the confidence bound is breached compared to 95%, 90%, and 80% confidence."
   ]
  },
  {
   "cell_type": "code",
   "execution_count": null,
   "metadata": {},
   "outputs": [],
   "source": [
    "import numpy as np\n",
    "n= 1000\n",
    "s = 100\n",
    "# creating an array with 100 samples with 1000 observations each of a normal distribution\n",
    "# with mean 3 and standard deviation 5\n",
    "np.random.seed(834920347)\n",
    "samples = np.random.normal(3,5,size =(s,n))\n",
    "print(\"shape of samples:\", samples.shape)"
   ]
  },
  {
   "cell_type": "code",
   "execution_count": null,
   "metadata": {},
   "outputs": [],
   "source": [
    "samples"
   ]
  },
  {
   "cell_type": "code",
   "execution_count": null,
   "metadata": {},
   "outputs": [],
   "source": [
    "# find mean and variance of each sample\n",
    "mean = []\n",
    "var = []\n",
    "for i in range(0,100):\n",
    "    mean += [np.mean(samples[i])]\n",
    "    var += [np.var(samples[i])]"
   ]
  },
  {
   "cell_type": "code",
   "execution_count": null,
   "metadata": {},
   "outputs": [],
   "source": [
    "print(\"Length of list of sample means =\",len(mean))\n",
    "print(\"Length of list of sample variance =\",len(var))"
   ]
  },
  {
   "cell_type": "code",
   "execution_count": null,
   "metadata": {},
   "outputs": [],
   "source": [
    "mean[:10] #print out first 10 sample means"
   ]
  },
  {
   "cell_type": "code",
   "execution_count": null,
   "metadata": {},
   "outputs": [],
   "source": [
    "var[:10] #print out first 10 sample variance"
   ]
  },
  {
   "cell_type": "code",
   "execution_count": null,
   "metadata": {},
   "outputs": [],
   "source": [
    "# We use this function to count the number of sample parameters that breach the CI\n",
    "def count_breach_CI(param = 1, l_bound = 0, u_bound = 1):\n",
    "    count = 0\n",
    "    for i in range(0,len(param)):\n",
    "        if param[i] < l_bound or param[i] > u_bound:\n",
    "            count += 1\n",
    "    return count"
   ]
  },
  {
   "cell_type": "markdown",
   "metadata": {},
   "source": [
    "### 95% Confidence Interval:\n",
    "First we calculate the theoretical 95% confidence interval for $\\mu$ and $\\sigma^2$, so $\\alpha = 0.05$.\n",
    "From a Normal Curve Area table we get that $z_{0.025} = 1.96$, and from a $\\chi^2$ distribution table we get $\\chi^2_{0.975} = 1088.49$ and $\\chi^2_{0.025} = 913.3$."
   ]
  },
  {
   "cell_type": "code",
   "execution_count": null,
   "metadata": {},
   "outputs": [],
   "source": [
    "l_bound_mean = 3 - (1.96*(5/1000**0.5))\n",
    "u_bound_mean = 3 + (1.96*(5/1000**0.5))\n",
    "print(\"Lower Bound for mean:\",round(l_bound_mean,2))\n",
    "print(\"Upper Bound for mean:\",round(u_bound_mean,2))\n",
    "l_bound_var = 999*25/1088.49\n",
    "u_bound_var = 999*25/913.3\n",
    "print(\"Lower Bound for variance:\",round(l_bound_var,2))\n",
    "print(\"Upper Bound for variance:\",round(u_bound_var,2))"
   ]
  },
  {
   "cell_type": "markdown",
   "metadata": {},
   "source": [
    "Thus, the 95% confidence interval for the mean $\\mu$ of a N(3,25) with 1000 observations is [2.69 , 3.31] and for the variance $\\sigma^2$ is [22.94, 27.35]."
   ]
  },
  {
   "cell_type": "code",
   "execution_count": null,
   "metadata": {},
   "outputs": [],
   "source": [
    "count95_mean = count_breach_CI(mean, l_bound_mean, u_bound_mean)\n",
    "count95_var = count_breach_CI(var, l_bound_var, u_bound_var)\n",
    "print(\"Number of sample means outside theoretical CI = \", count95_mean)\n",
    "print(\"Number of sample variance outside theoretical CI = \", count95_var)"
   ]
  },
  {
   "cell_type": "markdown",
   "metadata": {},
   "source": [
    "#### Conclusion\n",
    "4 out of the 100 sample means and lay outside the theoretical 95% confidence interval, which means 96% of the sample means were within the confidence interval. Thus, 1% more sample means were inside the confidence interval than what the 95% confidence interval predicted.\n",
    "\n",
    "2 out of the 100 sample variances lay outside of the theoretical 95% confidence interval, which means 98% of the sample variances lay within the confidence interval. Thus, 3% more sample variances were inside the confidence interval than what the 95% confidence interval predicted."
   ]
  },
  {
   "cell_type": "markdown",
   "metadata": {},
   "source": [
    "### 90% Confidence Interval:\n",
    "Next we calculate the theoretical 90% confidence interval, so $\\alpha = 0.1$.\n",
    "From a Normal Curve Area table we get that $z_{0.05} = 1.645$, and from a $\\chi^2$ distribution table we get $\\chi^2_{0.95} = 1073.64$ and $\\chi^2_{0.05} = 926.63$."
   ]
  },
  {
   "cell_type": "code",
   "execution_count": null,
   "metadata": {},
   "outputs": [],
   "source": [
    "l_bound_mean = 3 - (1.645*(5/1000**0.5))\n",
    "u_bound_mean = 3 + (1.645*(5/1000**0.5))\n",
    "print(\"Lower Bound for mean:\",round(l_bound_mean,2))\n",
    "print(\"Upper Bound for mean:\",round(u_bound_mean,2))\n",
    "l_bound_var = 999*25/1073.64\n",
    "u_bound_var = 999*25/926.63\n",
    "print(\"Lower Bound for variance:\",round(l_bound_var,2))\n",
    "print(\"Upper Bound for variance:\",round(u_bound_var,2))"
   ]
  },
  {
   "cell_type": "markdown",
   "metadata": {},
   "source": [
    "Thus, the 90% confidence interval for the mean $\\mu$ of a N(3,25) with 1000 observations is [2.74 , 3.26] and for the variance $\\sigma^2$ is [23.26, 26.95]."
   ]
  },
  {
   "cell_type": "code",
   "execution_count": null,
   "metadata": {},
   "outputs": [],
   "source": [
    "count90_mean = count_breach_CI(mean, l_bound_mean, u_bound_mean)\n",
    "count90_var = count_breach_CI(var, l_bound_var, u_bound_var)\n",
    "print(\"Number of sample means outside theoretical CI = \", count90_mean)\n",
    "print(\"Number of sample variance outside theoretical CI = \", count90_var)"
   ]
  },
  {
   "cell_type": "markdown",
   "metadata": {},
   "source": [
    "#### Conclusion\n",
    "10 out of the 100 sample means lay outside of the theoretical 90% confidence interval, which means 90% of the sample means were within the confidence interval. This is exactly the same as what is predicted by the 90% confidence interval.\n",
    "\n",
    "7 out of the 100 sample variances lay outside of the theoretical 90% confidence interval, which means 93% of sample variances were within the confidence interval. Thus, 3% more sample variances were inside the confidence interval than what the 90% confidence interval predicted."
   ]
  },
  {
   "cell_type": "markdown",
   "metadata": {},
   "source": [
    "### 80% Confidence Interval:\n",
    "Last we calculate the theoretical 80% confidence interval, so $\\alpha = 0.2$.\n",
    "From a Normal Curve Area table we get that $z_{0.1} = 1.282$, and from a $\\chi^2$ distribution table we get $\\chi^2_{0.90} = 1056.695$ and $\\chi^2_{0.10} = 942.16$."
   ]
  },
  {
   "cell_type": "code",
   "execution_count": null,
   "metadata": {},
   "outputs": [],
   "source": [
    "l_bound_mean = 3 - (1.282*(5/1000**0.5))\n",
    "u_bound_mean = 3 + (1.282*(5/1000**0.5))\n",
    "print(\"Lower Bound for mean:\",round(l_bound_mean,2))\n",
    "print(\"Upper Bound for mean:\",round(u_bound_mean,2))\n",
    "l_bound_var = 999*25/1056.695\n",
    "u_bound_var = 999*25/942.16\n",
    "print(\"Lower Bound for variance:\",round(l_bound_var,2))\n",
    "print(\"Upper Bound for variance:\",round(u_bound_var,2))"
   ]
  },
  {
   "cell_type": "markdown",
   "metadata": {},
   "source": [
    "Thus, the 80% confidence interval for the mean $\\mu$ of a N(3,25) with 1000 observations is [2.8 , 3.2] and for the variance $\\sigma^2$ is [23.64, 26.51]."
   ]
  },
  {
   "cell_type": "code",
   "execution_count": null,
   "metadata": {},
   "outputs": [],
   "source": [
    "count90_mean = count_breach_CI(mean, l_bound_mean, u_bound_mean)\n",
    "count90_var = count_breach_CI(var, l_bound_var, u_bound_var)\n",
    "print(\"Number of sample means outside theoretical CI = \", count90_mean)\n",
    "print(\"Number of sample variance outside theoretical CI = \", count90_var)"
   ]
  },
  {
   "cell_type": "markdown",
   "metadata": {},
   "source": [
    "#### Conclusion\n",
    "20 out of the 100 sample means and lay outside of the theoretical 80% confidence interval, which means 80% of the sample means were within the confidence interval. This is exactly the same as what is predicted by the 80% confidence interval.\n",
    "\n",
    "14 out of the 100 sample variances lay outside of the theoretical 80% confidence interval, which means 86% of the sample variances were within the confidence interval. Thus, 6% more sample variances were inside the confidence interval than what the 80% confidence interval predicted."
   ]
  }
 ],
 "metadata": {
  "language_info": {
   "name": "python",
   "pygments_lexer": "ipython3"
  }
 },
 "nbformat": 4,
 "nbformat_minor": 2
}
