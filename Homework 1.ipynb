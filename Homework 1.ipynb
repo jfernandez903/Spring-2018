{
 "cells": [
  {
   "cell_type": "markdown",
   "metadata": {},
   "source": [
    "## Introduction:\n",
    "In this assignment I will empirically verify the concept of confidence intervals. A confidence interval is a range of values in which we are confident the true value of a parameter lies in.\n",
    "\n",
    "Specifically, I will be using a Normal distribution with mean $\\mu = 3$ and variance $\\sigma^2 = 25$, i.e. $N(3,25)$.\n",
    "\n",
    "The theoretical $(1-\\alpha)$% confidence interval for a $N(\\mu,\\sigma^2)$ distribution for the parameter $\\mu$ is $\\mu \\pm z_{\\alpha/2}\\frac{\\sigma}{\\sqrt{n}}$ where n is the number of observations in the sample. Furthermore the theoretical $(1-\\alpha)$% confidence interval for the parameter $\\sigma^2$ is $[\\frac{(n-1)\\sigma^2}{\\chi^2_{1-\\alpha/2}},\\frac{(n-1)\\sigma^2}{\\chi^2_{\\alpha/2}}]$ where $\\chi^2$ has n-1 degrees of freedom.\n",
    "\n",
    "I will generate 100 random samples of 1000 observations (n=1000) in order to see how many times the confidence bound is breached compared to 95%, 90%, and 80% confidence."
   ]
  },
  {
   "cell_type": "code",
   "execution_count": 20,
   "metadata": {},
   "outputs": [
    {
     "name": "stdout",
     "output_type": "stream",
     "text": [
      "shape of samples: (100, 1000)\n"
     ]
    }
   ],
   "source": [
    "import numpy as np\n",
    "n= 1000\n",
    "s = 100\n",
    "# creating an array with 100 samples with 1000 observations each of a normal distribution\n",
    "# with mean 3 and standard deviation 5\n",
    "np.random.seed(834920347)\n",
    "samples = np.random.normal(3,5,size =(s,n))\n",
    "print(\"shape of samples:\", samples.shape)"
   ]
  },
  {
   "cell_type": "code",
   "execution_count": 21,
   "metadata": {},
   "outputs": [
    {
     "data": {
      "text/plain": [
       "array([[ -6.58049047,   2.82135723,   9.63384165, ...,   4.04994403,\n",
       "          9.10682189,   2.26962127],\n",
       "       [ 19.38101175,  -1.14068869,   0.83794923, ...,   3.13569595,\n",
       "         -1.44113795,   1.18646105],\n",
       "       [  0.74896961,  -5.94013537,   8.24467059, ...,  -2.33065537,\n",
       "          3.72962942,   1.85064374],\n",
       "       ..., \n",
       "       [ -2.20456576,   2.65097802,  14.96749523, ...,   7.97051682,\n",
       "          6.49084567,  -2.24634139],\n",
       "       [-12.01919328,   8.14415992,   8.84928235, ...,  -3.91341474,\n",
       "          1.59928907,  -7.61376978],\n",
       "       [  1.46035428,   3.75244024,  13.48327691, ...,  -6.83932634,\n",
       "          4.24886132,   7.3017669 ]])"
      ]
     },
     "execution_count": 21,
     "metadata": {},
     "output_type": "execute_result"
    }
   ],
   "source": [
    "samples"
   ]
  },
  {
   "cell_type": "code",
   "execution_count": 22,
   "metadata": {},
   "outputs": [],
   "source": [
    "# find mean and variance of each sample\n",
    "mean = []\n",
    "var = []\n",
    "for i in range(0,100):\n",
    "    mean += [np.mean(samples[i])]\n",
    "    var += [np.var(samples[i])]"
   ]
  },
  {
   "cell_type": "code",
   "execution_count": 23,
   "metadata": {},
   "outputs": [
    {
     "name": "stdout",
     "output_type": "stream",
     "text": [
      "Length of list of sample means = 100\n",
      "Length of list of sample variance = 100\n"
     ]
    }
   ],
   "source": [
    "print(\"Length of list of sample means =\",len(mean))\n",
    "print(\"Length of list of sample variance =\",len(var))"
   ]
  },
  {
   "cell_type": "code",
   "execution_count": 24,
   "metadata": {},
   "outputs": [
    {
     "data": {
      "text/plain": [
       "[2.9330918646051329,\n",
       " 2.7791053524305327,\n",
       " 3.1935887365326985,\n",
       " 2.9898048256619751,\n",
       " 3.0791926945883374,\n",
       " 3.1065544376878895,\n",
       " 2.6657987131678156,\n",
       " 3.1220186411171267,\n",
       " 2.9636698801887777,\n",
       " 2.9731572186100603]"
      ]
     },
     "execution_count": 24,
     "metadata": {},
     "output_type": "execute_result"
    }
   ],
   "source": [
    "mean[:10] #print out first 10 sample means"
   ]
  },
  {
   "cell_type": "code",
   "execution_count": 25,
   "metadata": {},
   "outputs": [
    {
     "data": {
      "text/plain": [
       "[25.895819733400575,\n",
       " 24.286018569754884,\n",
       " 25.288113814883893,\n",
       " 23.156476747767964,\n",
       " 25.003938545703114,\n",
       " 24.475718056664764,\n",
       " 25.295380033306238,\n",
       " 24.332615009604531,\n",
       " 26.234963858146834,\n",
       " 23.028866109789]"
      ]
     },
     "execution_count": 25,
     "metadata": {},
     "output_type": "execute_result"
    }
   ],
   "source": [
    "var[:10] #print out first 10 sample variance"
   ]
  },
  {
   "cell_type": "code",
   "execution_count": 26,
   "metadata": {},
   "outputs": [],
   "source": [
    "# We use this function to count the number of sample parameters that breach the CI\n",
    "def count_breach_CI(param = 1, l_bound = 0, u_bound = 1):\n",
    "    count = 0\n",
    "    for i in range(0,len(param)):\n",
    "        if param[i] < l_bound or param[i] > u_bound:\n",
    "            count += 1\n",
    "    return count"
   ]
  },
  {
   "cell_type": "markdown",
   "metadata": {},
   "source": [
    "### 95% Confidence Interval:\n",
    "First we calculate the theoretical 95% confidence interval for $\\mu$ and $\\sigma^2$, so $\\alpha = 0.05$.\n",
    "From a Normal Curve Area table we get that $z_{0.025} = 1.96$, and from a $\\chi^2$ distribution table we get $\\chi^2_{0.975} = 1088.49$ and $\\chi^2_{0.025} = 913.3$."
   ]
  },
  {
   "cell_type": "code",
   "execution_count": 27,
   "metadata": {},
   "outputs": [
    {
     "name": "stdout",
     "output_type": "stream",
     "text": [
      "Lower Bound for mean: 2.69\n",
      "Upper Bound for mean: 3.31\n",
      "Lower Bound for variance: 22.94\n",
      "Upper Bound for variance: 27.35\n"
     ]
    }
   ],
   "source": [
    "l_bound_mean = 3 - (1.96*(5/1000**0.5))\n",
    "u_bound_mean = 3 + (1.96*(5/1000**0.5))\n",
    "print(\"Lower Bound for mean:\",round(l_bound_mean,2))\n",
    "print(\"Upper Bound for mean:\",round(u_bound_mean,2))\n",
    "l_bound_var = 999*25/1088.49\n",
    "u_bound_var = 999*25/913.3\n",
    "print(\"Lower Bound for variance:\",round(l_bound_var,2))\n",
    "print(\"Upper Bound for variance:\",round(u_bound_var,2))"
   ]
  },
  {
   "cell_type": "markdown",
   "metadata": {},
   "source": [
    "Thus, the 95% confidence interval for the mean $\\mu$ of a N(3,25) with 1000 observations is [2.69 , 3.31] and for the variance $\\sigma^2$ is [22.94, 27.35]."
   ]
  },
  {
   "cell_type": "code",
   "execution_count": 28,
   "metadata": {},
   "outputs": [
    {
     "name": "stdout",
     "output_type": "stream",
     "text": [
      "Number of sample means outside theoretical CI =  4\n",
      "Number of sample variance outside theoretical CI =  2\n"
     ]
    }
   ],
   "source": [
    "count95_mean = count_breach_CI(mean, l_bound_mean, u_bound_mean)\n",
    "count95_var = count_breach_CI(var, l_bound_var, u_bound_var)\n",
    "print(\"Number of sample means outside theoretical CI = \", count95_mean)\n",
    "print(\"Number of sample variance outside theoretical CI = \", count95_var)"
   ]
  },
  {
   "cell_type": "markdown",
   "metadata": {},
   "source": [
    "#### Conclusion\n",
    "4 out of the 100 sample means and lay outside the theoretical 95% confidence interval, which means 96% of the sample means were within the confidence interval. Thus, 1% more sample means were inside the confidence interval than what the 95% confidence interval predicted.\n",
    "\n",
    "2 out of the 100 sample variances lay outside of the theoretical 95% confidence interval, which means 98% of the sample variances lay within the confidence interval. Thus, 3% more sample variances were inside the confidence interval than what the 95% confidence interval predicted."
   ]
  },
  {
   "cell_type": "markdown",
   "metadata": {},
   "source": [
    "### 90% Confidence Interval:\n",
    "Next we calculate the theoretical 90% confidence interval, so $\\alpha = 0.1$.\n",
    "From a Normal Curve Area table we get that $z_{0.05} = 1.645$, and from a $\\chi^2$ distribution table we get $\\chi^2_{0.95} = 1073.64$ and $\\chi^2_{0.05} = 926.63$."
   ]
  },
  {
   "cell_type": "code",
   "execution_count": 29,
   "metadata": {},
   "outputs": [
    {
     "name": "stdout",
     "output_type": "stream",
     "text": [
      "Lower Bound for mean: 2.74\n",
      "Upper Bound for mean: 3.26\n",
      "Lower Bound for variance: 23.26\n",
      "Upper Bound for variance: 26.95\n"
     ]
    }
   ],
   "source": [
    "l_bound_mean = 3 - (1.645*(5/1000**0.5))\n",
    "u_bound_mean = 3 + (1.645*(5/1000**0.5))\n",
    "print(\"Lower Bound for mean:\",round(l_bound_mean,2))\n",
    "print(\"Upper Bound for mean:\",round(u_bound_mean,2))\n",
    "l_bound_var = 999*25/1073.64\n",
    "u_bound_var = 999*25/926.63\n",
    "print(\"Lower Bound for variance:\",round(l_bound_var,2))\n",
    "print(\"Upper Bound for variance:\",round(u_bound_var,2))"
   ]
  },
  {
   "cell_type": "markdown",
   "metadata": {},
   "source": [
    "Thus, the 90% confidence interval for the mean $\\mu$ of a N(3,25) with 1000 observations is [2.74 , 3.26] and for the variance $\\sigma^2$ is [23.26, 26.95]."
   ]
  },
  {
   "cell_type": "code",
   "execution_count": 30,
   "metadata": {},
   "outputs": [
    {
     "name": "stdout",
     "output_type": "stream",
     "text": [
      "Number of sample means outside theoretical CI =  10\n",
      "Number of sample variance outside theoretical CI =  7\n"
     ]
    }
   ],
   "source": [
    "count90_mean = count_breach_CI(mean, l_bound_mean, u_bound_mean)\n",
    "count90_var = count_breach_CI(var, l_bound_var, u_bound_var)\n",
    "print(\"Number of sample means outside theoretical CI = \", count90_mean)\n",
    "print(\"Number of sample variance outside theoretical CI = \", count90_var)"
   ]
  },
  {
   "cell_type": "markdown",
   "metadata": {},
   "source": [
    "#### Conclusion\n",
    "10 out of the 100 sample means lay outside of the theoretical 90% confidence interval, which means 90% of the sample means were within the confidence interval. This is exactly the same as what is predicted by the 90% confidence interval.\n",
    "\n",
    "7 out of the 100 sample variances lay outside of the theoretical 90% confidence interval, which means 93% of sample variances were within the confidence interval. Thus, 3% more sample variances were inside the confidence interval than what the 90% confidence interval predicted."
   ]
  },
  {
   "cell_type": "markdown",
   "metadata": {},
   "source": [
    "### 80% Confidence Interval:\n",
    "Last we calculate the theoretical 80% confidence interval, so $\\alpha = 0.2$.\n",
    "From a Normal Curve Area table we get that $z_{0.1} = 1.282$, and from a $\\chi^2$ distribution table we get $\\chi^2_{0.90} = 1056.695$ and $\\chi^2_{0.10} = 942.16$."
   ]
  },
  {
   "cell_type": "code",
   "execution_count": 31,
   "metadata": {},
   "outputs": [
    {
     "name": "stdout",
     "output_type": "stream",
     "text": [
      "Lower Bound for mean: 2.8\n",
      "Upper Bound for mean: 3.2\n",
      "Lower Bound for variance: 23.64\n",
      "Upper Bound for variance: 26.51\n"
     ]
    }
   ],
   "source": [
    "l_bound_mean = 3 - (1.282*(5/1000**0.5))\n",
    "u_bound_mean = 3 + (1.282*(5/1000**0.5))\n",
    "print(\"Lower Bound for mean:\",round(l_bound_mean,2))\n",
    "print(\"Upper Bound for mean:\",round(u_bound_mean,2))\n",
    "l_bound_var = 999*25/1056.695\n",
    "u_bound_var = 999*25/942.16\n",
    "print(\"Lower Bound for variance:\",round(l_bound_var,2))\n",
    "print(\"Upper Bound for variance:\",round(u_bound_var,2))"
   ]
  },
  {
   "cell_type": "markdown",
   "metadata": {},
   "source": [
    "Thus, the 80% confidence interval for the mean $\\mu$ of a N(3,25) with 1000 observations is [2.8 , 3.2] and for the variance $\\sigma^2$ is [23.64, 26.51]."
   ]
  },
  {
   "cell_type": "code",
   "execution_count": 32,
   "metadata": {},
   "outputs": [
    {
     "name": "stdout",
     "output_type": "stream",
     "text": [
      "Number of sample means outside theoretical CI =  20\n",
      "Number of sample variance outside theoretical CI =  14\n"
     ]
    }
   ],
   "source": [
    "count90_mean = count_breach_CI(mean, l_bound_mean, u_bound_mean)\n",
    "count90_var = count_breach_CI(var, l_bound_var, u_bound_var)\n",
    "print(\"Number of sample means outside theoretical CI = \", count90_mean)\n",
    "print(\"Number of sample variance outside theoretical CI = \", count90_var)"
   ]
  },
  {
   "cell_type": "markdown",
   "metadata": {},
   "source": [
    "#### Conclusion\n",
    "20 out of the 100 sample means and lay outside of the theoretical 80% confidence interval, which means 80% of the sample means were within the confidence interval. This is exactly the same as what is predicted by the 80% confidence interval.\n",
    "\n",
    "14 out of the 100 sample variances lay outside of the theoretical 80% confidence interval, which means 86% of the sample variances were within the confidence interval. Thus, 6% more sample variances were inside the confidence interval than what the 80% confidence interval predicted."
   ]
  }
 ],
 "metadata": {
  "kernelspec": {
   "display_name": "Python 3",
   "language": "python",
   "name": "python3"
  },
  "language_info": {
   "codemirror_mode": {
    "name": "ipython",
    "version": 3
   },
   "file_extension": ".py",
   "mimetype": "text/x-python",
   "name": "python",
   "nbconvert_exporter": "python",
   "pygments_lexer": "ipython3",
   "version": "3.6.5"
  }
 },
 "nbformat": 4,
 "nbformat_minor": 2
}
