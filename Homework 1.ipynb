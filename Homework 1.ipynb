{
 "cells": [
  {
   "cell_type": "markdown",
   "metadata": {},
   "source": [
    "In this assignment I will empirically verify the concept of confidence intervals. A confidence interval is a range of values in which we are confident the true value of a parameter lies in.\n",
    "\n",
    "Specifically, I will be using a Normal distribution with mean $\\mu = 3$ and variance $\\sigma^2 = 25$, i.e. $N(3,25)$.\n",
    "\n",
    "The theoretical $(1-\\alpha)$% confidence interval for a $N(\\mu,\\sigma^2)$ distribution for the parameter $\\mu$ is $\\mu \\pm z_{\\alpha/2}\\frac{\\sigma}{\\sqrt{n}}$ where n is the number of observations in the sample.\n",
    "\n",
    "I will generate 100 random samples of 1000 observations (n=1000) in order to see how many times the confidence bound is breached compared to 95%, 90%, and 80% confidence."
   ]
  },
  {
   "cell_type": "markdown",
   "metadata": {},
   "source": [
    "First we calculate the theoretical 95% confidence interval, so $\\alpha = 0.05$.\n",
    "From a Normal Curve Area table we get that $z_{0.025} = 1.96$."
   ]
  },
  {
   "cell_type": "code",
   "execution_count": 419,
   "metadata": {},
   "outputs": [
    {
     "name": "stdout",
     "output_type": "stream",
     "text": [
      "Lower Bound: 2.69\n",
      "Upper Bound: 3.31\n"
     ]
    }
   ],
   "source": [
    "l_bound = 3 - (1.96*(5/1000**0.5))\n",
    "u_bound = 3 + (1.96*(5/1000**0.5))\n",
    "print(\"Lower Bound:\",round(l_bound,2))\n",
    "print(\"Upper Bound:\",round(u_bound,2))"
   ]
  },
  {
   "cell_type": "markdown",
   "metadata": {},
   "source": [
    "Thus, the 95% confidence interval for the mean $\\mu$ of a N(3,25) with 1000 observations is [2.69 , 3.31]."
   ]
  },
  {
   "cell_type": "code",
   "execution_count": 420,
   "metadata": {},
   "outputs": [
    {
     "name": "stdout",
     "output_type": "stream",
     "text": [
      "shape of samples: (100, 1000)\n"
     ]
    }
   ],
   "source": [
    "import numpy as np\n",
    "n= 1000\n",
    "s = 100\n",
    "# creating an array with 100 samples with 1000 observations each of a normal distribution\n",
    "# with mean 3 and standard deviation 5\n",
    "np.random.seed(834920347)\n",
    "samples = np.random.normal(3,5,size =(s,n))\n",
    "print(\"shape of samples:\", sample.shape)"
   ]
  },
  {
   "cell_type": "code",
   "execution_count": 421,
   "metadata": {},
   "outputs": [
    {
     "data": {
      "text/plain": [
       "array([[ -6.58049047,   2.82135723,   9.63384165, ...,   4.04994403,\n",
       "          9.10682189,   2.26962127],\n",
       "       [ 19.38101175,  -1.14068869,   0.83794923, ...,   3.13569595,\n",
       "         -1.44113795,   1.18646105],\n",
       "       [  0.74896961,  -5.94013537,   8.24467059, ...,  -2.33065537,\n",
       "          3.72962942,   1.85064374],\n",
       "       ..., \n",
       "       [ -2.20456576,   2.65097802,  14.96749523, ...,   7.97051682,\n",
       "          6.49084567,  -2.24634139],\n",
       "       [-12.01919328,   8.14415992,   8.84928235, ...,  -3.91341474,\n",
       "          1.59928907,  -7.61376978],\n",
       "       [  1.46035428,   3.75244024,  13.48327691, ...,  -6.83932634,\n",
       "          4.24886132,   7.3017669 ]])"
      ]
     },
     "execution_count": 421,
     "metadata": {},
     "output_type": "execute_result"
    }
   ],
   "source": [
    "samples"
   ]
  },
  {
   "cell_type": "code",
   "execution_count": 422,
   "metadata": {},
   "outputs": [],
   "source": [
    "# find mean of each sample\n",
    "mean = []\n",
    "for i in range(0,100):\n",
    "    mean += [samples[i].mean()]"
   ]
  },
  {
   "cell_type": "code",
   "execution_count": 423,
   "metadata": {},
   "outputs": [
    {
     "data": {
      "text/plain": [
       "100"
      ]
     },
     "execution_count": 423,
     "metadata": {},
     "output_type": "execute_result"
    }
   ],
   "source": [
    "len(mean)"
   ]
  },
  {
   "cell_type": "code",
   "execution_count": 424,
   "metadata": {},
   "outputs": [],
   "source": [
    "def count_breach_CI(mean = 1):\n",
    "    count = 0\n",
    "    for i in range(0,len(mean)):\n",
    "        if mean[i] < l_bound or mean[i] > u_bound:\n",
    "            count += 1\n",
    "    return count"
   ]
  },
  {
   "cell_type": "code",
   "execution_count": 425,
   "metadata": {},
   "outputs": [
    {
     "data": {
      "text/plain": [
       "4"
      ]
     },
     "execution_count": 425,
     "metadata": {},
     "output_type": "execute_result"
    }
   ],
   "source": [
    "count95 = count_breach_CI(mean)\n",
    "count95"
   ]
  },
  {
   "cell_type": "markdown",
   "metadata": {},
   "source": [
    "Next we calculate the theoretical 90% confidence interval, so $\\alpha = 0.1$.\n",
    "From a Normal Curve Area table we get that $z_{0.05} = 1.645$."
   ]
  },
  {
   "cell_type": "code",
   "execution_count": 426,
   "metadata": {},
   "outputs": [
    {
     "name": "stdout",
     "output_type": "stream",
     "text": [
      "Lower Bound: 2.74\n",
      "Upper Bound: 3.26\n"
     ]
    }
   ],
   "source": [
    "l_bound = 3 - (1.645*(5/1000**0.5))\n",
    "u_bound = 3 + (1.645*(5/1000**0.5))\n",
    "print(\"Lower Bound:\",round(l_bound,2))\n",
    "print(\"Upper Bound:\",round(u_bound,2))"
   ]
  },
  {
   "cell_type": "code",
   "execution_count": 427,
   "metadata": {},
   "outputs": [
    {
     "data": {
      "text/plain": [
       "10"
      ]
     },
     "execution_count": 427,
     "metadata": {},
     "output_type": "execute_result"
    }
   ],
   "source": [
    "count90 = count_breach_CI(mean)\n",
    "count90"
   ]
  },
  {
   "cell_type": "markdown",
   "metadata": {},
   "source": [
    "Last we calculate the theoretical 80% confidence interval, so $\\alpha = 0.2$.\n",
    "From a Normal Curve Area table we get that $z_{0.1} = 1.282$."
   ]
  },
  {
   "cell_type": "code",
   "execution_count": 428,
   "metadata": {},
   "outputs": [
    {
     "name": "stdout",
     "output_type": "stream",
     "text": [
      "Lower Bound: 2.8\n",
      "Upper Bound: 3.2\n"
     ]
    }
   ],
   "source": [
    "l_bound = 3 - (1.282*(5/1000**0.5))\n",
    "u_bound = 3 + (1.282*(5/1000**0.5))\n",
    "print(\"Lower Bound:\",round(l_bound,2))\n",
    "print(\"Upper Bound:\",round(u_bound,2))"
   ]
  },
  {
   "cell_type": "code",
   "execution_count": 429,
   "metadata": {},
   "outputs": [
    {
     "data": {
      "text/plain": [
       "20"
      ]
     },
     "execution_count": 429,
     "metadata": {},
     "output_type": "execute_result"
    }
   ],
   "source": [
    "count80 = count_breach_CI(mean)\n",
    "count80"
   ]
  },
  {
   "cell_type": "markdown",
   "metadata": {},
   "source": [
    "We see that only 5 out of the 100 sample means lay outside of the 95% confidence interval [2.69 , 3.31], which means that 95/100 sample means were inside the confidence interval. In this case, we get exactly 95% of the sample means within the confidence interval as expected."
   ]
  }
 ],
 "metadata": {
  "kernelspec": {
   "display_name": "Python 3",
   "language": "python",
   "name": "python3"
  },
  "language_info": {
   "codemirror_mode": {
    "name": "ipython",
    "version": 3
   },
   "file_extension": ".py",
   "mimetype": "text/x-python",
   "name": "python",
   "nbconvert_exporter": "python",
   "pygments_lexer": "ipython3",
   "version": "3.6.5"
  }
 },
 "nbformat": 4,
 "nbformat_minor": 2
}
