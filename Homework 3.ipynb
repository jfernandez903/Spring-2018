{
 "cells": [
  {
   "cell_type": "markdown",
   "metadata": {},
   "source": [
    "# Basketball analytics: distilling and summarizing Information\n",
    "\n",
    "#### Due: May 11 at 10 pm\n",
    "\n",
    "When analyzing data, setting a goal is often helpful. In this assignment, the focus is on understanding how NMF behaves, and further analyzing player data.\n",
    "\n",
    "In all the problems below, take a step back and think about each procedure as a piece in a bigger puzzle of understanding the game of basketball and its players. This goal should guide any decisions we make, and insights we interpret.\n",
    "\n",
    "## Preparing Data\n",
    "\n",
    "In the previous notebook `07-Shooting-Pattern-Analysis`, we computed smoothed shot patterns for 362 players that played during 2016-17 regular season. Save the matrix `X` from Non-negative matrix factorization (NMF) section.\n",
    "\n",
    "Please create this file from saving the appropriate variable into a picke file called `allpatterns2016-17.pkl`. After saving the file, you can load it via the following command:"
   ]
  },
  {
   "cell_type": "code",
   "execution_count": null,
   "metadata": {},
   "outputs": [],
   "source": [
    "%matplotlib inline\n",
    "\n",
    "import pandas as pd\n",
    "import numpy as np\n",
    "import matplotlib.pyplot as plt\n",
    "import subprocess as sp\n",
    "import pickle\n",
    "\n",
    "import helper_basketball as h\n",
    "import imp\n",
    "imp.reload(h);\n",
    "\n",
    "import seaborn as sns"
   ]
  },
  {
   "cell_type": "code",
   "execution_count": null,
   "metadata": {},
   "outputs": [],
   "source": [
    "# created the pickle file in lecture 7\n",
    "X = pickle.load(open('allpatterns2016-17.pkl', 'rb'))\n",
    "X.shape"
   ]
  },
  {
   "cell_type": "markdown",
   "metadata": {},
   "source": [
    "## Non-negative Matrix Factorization (NMF) notation\n",
    "\n",
    "Non-negative matrix factorization was used on the smoothed shooting pattern data of around 360 players. The result was useful in\n",
    "* Bases: Identifying modes of shooting style (number of modes was determined by `n_components` argument to `NMF` function)\n",
    "* Coefficients: How each players shooting style could be expressed as a linear combination of these bases (matrix multiplication between the bases and coefficients achieve this)\n",
    "\n",
    "Recall the following. Given some matrix $X$ is $p\\times n$ matrix, NMF computes the following factorization:\n",
    "$$ \\min_{W,H} \\| X - WH \\|_F\\\\\n",
    "\\text{ subject to } W\\geq 0,\\ H\\geq 0, $$\n",
    "where $W$ is ${p\\times r}$ matrix and $H$ is ${r\\times n}$ matrix.\n",
    "\n",
    "\n",
    "## Problem 1\n",
    "\n",
    "__PSTAT 134 and 234__: Experiment with different number of `n_components` to change the number of bases vectors. Visualize the bases vectors.\n",
    "\n",
    "What value of $r$ seem to be too small? (`r` is too small to represent diversity of shooting modes) What value of $r$ seem to be too large? (`r` is too large and some bases seem to be duplicated). Note that, if a basis were a perfect duplicate of another (they will not be, but could be similar), you would use one basis instead of two."
   ]
  },
  {
   "cell_type": "markdown",
   "metadata": {},
   "source": [
    "### Answer"
   ]
  },
  {
   "cell_type": "code",
   "execution_count": null,
   "metadata": {},
   "outputs": [],
   "source": [
    "import sklearn.decomposition as skld\n",
    "from ipywidgets import interact, FloatSlider, Dropdown, Button\n",
    "\n",
    "comp_dd = dict(zip(range(1,81),range(1,81)))\n",
    "default_component = 10\n",
    "\n",
    "component_menu = Dropdown(options = comp_dd, value = default_component)\n",
    "\n",
    "fetch_button = Button(description='Get Data!', icon='check')\n",
    "display(component_menu, fetch_button)\n",
    "\n",
    "xedges = (np.linspace(start=-25, stop=25, num=151, dtype=np.float)) * 12\n",
    "yedges = (np.linspace(start= -4, stop=31, num=106, dtype=np.float)) * 12\n",
    "## Non-negative Matrix Factorization\n",
    "def non_negative_marix_decomp(n_components,train_data):\n",
    "    import sklearn.decomposition as skld\n",
    "    model = skld.NMF(n_components=n_components, init='nndsvda', max_iter=500, random_state=0)\n",
    "    W = model.fit_transform(train_data)\n",
    "    H = model.components_\n",
    "    nmf = (W,H)\n",
    "    return(nmf)\n",
    "\n",
    "def get_data(change):\n",
    "    print('Number of bases (r):', component_menu.value)\n",
    "    \n",
    "    W, H = non_negative_marix_decomp(n_components = component_menu.value, train_data = X)\n",
    "\n",
    "    p_w, r = W.shape\n",
    "    r = int(round(r/2)) if ((int(r) % 2) == 0) else int(r/2) + 1\n",
    "    \n",
    "    fig, ax = plt.subplots(r, 2, figsize=(20,int(8*r)))\n",
    "    print\n",
    "    helper = ax.flatten() if ((component_menu.value % 2) == 0) else ax.flatten()[:-1]\n",
    "    \n",
    "    for i, axi in enumerate(helper):\n",
    "        h.plot_shotchart(W[:,i], xedges, yedges, ax=axi)\n",
    "        axi.set_title('NMF component ' + str(i))\n",
    "    \n",
    "\n",
    "fetch_button.on_click(get_data)"
   ]
  },
  {
   "cell_type": "markdown",
   "metadata": {},
   "source": [
    "4 might be too little because it does not allow us to see a diversity from different areas of the court.  \n",
    "I believe that 19 is too many bases because it starts getting a lot of very similar bases specially on the three point shots. There are bases that at a first glance once might think are similar inside the three point line when we do less bases, but all of those I believe are unique because they show different sides of the court. For this reason I believe that 19 is when there are too many and so 18 should be the limit."
   ]
  },
  {
   "cell_type": "markdown",
   "metadata": {},
   "source": [
    "## Problem 2\n",
    "\n",
    "__PSTAT 134 and 234__: In the previous question, NMF gave us a set of bases to describe each player. So, the comparison is through a standard set of shooting styles. We may also approach the comparison more directly.\n",
    "\n",
    "* In this problem, we compare of players' shooting styles to each other directly. What we are interested in is pairwise correlation between shooting patterns. Let $X_i$ represent the column in the smoothed shooting pattern for player $i$. Then, we want to compute   \n",
    "    $$ R = [\\text{Cor} (X_i, X_j)]_{i,j} $$ for all player combinations $i,j\\in\\{1,2,\\dots,362\\}$. What is the correct orientation of matrix $X$? What should be the dimension of matrix $R$?   \n",
    "    _Note: if your command is not running properly, you may be running into the issue of using too much memory, and your notebook session is rebooted by the server as a result._\n",
    "    \n",
    "* Visualize matrix $R$ with [seaborn.heatmap](https://seaborn.pydata.org/generated/seaborn.heatmap.html) function.\n",
    "\n",
    "* Identify 2 pairs of players with highest similarities (positive correlation) and 2 pairs with lowest similarity (negative correlation). Plot their shooting pattern. What do you observe?"
   ]
  },
  {
   "cell_type": "markdown",
   "metadata": {},
   "source": [
    "### Answer"
   ]
  },
  {
   "cell_type": "markdown",
   "metadata": {},
   "source": [
    "We do transpose X because we want to get the correlation between each of the players and not the bins and the correlation function takes the correlation between rows.   \n",
    "  \n",
    "R will be a 362x362 matrix.  "
   ]
  },
  {
   "cell_type": "code",
   "execution_count": null,
   "metadata": {},
   "outputs": [],
   "source": [
    "# Creating correlation matrix R\n",
    "R = np.corrcoef(X, rowvar=0) # setting rowvar=0 is the equivalent of transposing X\n",
    "R.shape"
   ]
  },
  {
   "cell_type": "code",
   "execution_count": null,
   "metadata": {},
   "outputs": [],
   "source": [
    "fig, ax = plt.subplots()\n",
    "fig.set_size_inches(15, 10)\n",
    "ax = sns.heatmap(R, cmap=\"Blues_r\")"
   ]
  },
  {
   "cell_type": "code",
   "execution_count": null,
   "metadata": {},
   "outputs": [],
   "source": [
    "# Getting the minimum and maximum correlation values\n",
    "flat = R.flatten()\n",
    "flat.sort()\n",
    "flat = np.delete(flat, np.array(range(len(flat)-362,len(flat))))\n",
    "print(\"minimum correlation value: \", flat[0])\n",
    "print(\"maximum correlation value: \", flat[-1])"
   ]
  },
  {
   "cell_type": "code",
   "execution_count": null,
   "metadata": {},
   "outputs": [],
   "source": [
    "# Getting the observation numbers for the two players with the maximum correlation\n",
    "np.where(R == flat[-1])"
   ]
  },
  {
   "cell_type": "code",
   "execution_count": null,
   "metadata": {},
   "outputs": [],
   "source": [
    "# Getting the observation numbers for the two players with the minimum correlation\n",
    "np.where(R == flat[0])"
   ]
  },
  {
   "cell_type": "code",
   "execution_count": null,
   "metadata": {},
   "outputs": [],
   "source": [
    "# To get the player IDs of the players with the minimum and maximum correlation\n",
    "allshots = pickle.load(open('allshots2016-17.pkl', 'rb'))\n",
    "player_ID = allshots.PlayerID.unique()\n",
    "\n",
    "## get all players\n",
    "params = {'LeagueID':'00', 'Season': '2016-17', 'IsOnlyCurrentSeason': '0'}\n",
    "players = h.get_nba_data('commonallplayers', params)\n",
    "\n",
    "print(\"IDs of players with highest correlation: \",player_ID[283],',',player_ID[235]) \n",
    "print(\"IDs of players with lowest correlation: \",player_ID[23],',',player_ID[251]) "
   ]
  },
  {
   "cell_type": "code",
   "execution_count": null,
   "metadata": {},
   "outputs": [],
   "source": [
    "print(\"Players with highest correlation:\",players.query('PERSON_ID == 2216')['DISPLAY_FIRST_LAST'].item(),',',\n",
    "      players.query('PERSON_ID == 1626257')['DISPLAY_FIRST_LAST'].item()) \n",
    "print(\"Players with lowest correlation:\",players.query('PERSON_ID == 203115')['DISPLAY_FIRST_LAST'].item(),',',\n",
    "      players.query('PERSON_ID == 203488')['DISPLAY_FIRST_LAST'].item()) "
   ]
  },
  {
   "cell_type": "code",
   "execution_count": null,
   "metadata": {},
   "outputs": [],
   "source": [
    "# Plot the players with the highest correlation which means that they have the most similar shooting patterns\n",
    "fig, ax = plt.subplots(1,2, figsize=(20,60))\n",
    "\n",
    "h.plot_shotchart(X[:,283], xedges, yedges, ax=ax[0]) \n",
    "h.plot_shotchart(X[:,235], xedges, yedges, ax=ax[1])\n",
    "ax[0].set_title('Zach Randolph Shooting Pattern')\n",
    "ax[1].set_title('Salah Mejri Shooting Pattern')"
   ]
  },
  {
   "cell_type": "code",
   "execution_count": null,
   "metadata": {},
   "outputs": [],
   "source": [
    "# Plot the players with the lowest correlation which means that they have the least similar shooting patterns\n",
    "fig, ax = plt.subplots(1,2, figsize=(20,60))\n",
    "\n",
    "h.plot_shotchart(X[:,23], xedges, yedges, ax=ax[0]) \n",
    "h.plot_shotchart(X[:,251], xedges, yedges, ax=ax[1])\n",
    "ax[0].set_title('Will Barton Shooting Pattern')\n",
    "ax[1].set_title('Mike Muscala Shooting Pattern')"
   ]
  },
  {
   "cell_type": "markdown",
   "metadata": {},
   "source": [
    "The most similar players seem to both like dunking a lot because most of their shots are right next to the basket.  \n",
    "The two most different players seem to one be a shooter from inside and the other one is a three point shooter because most of the shots are on the outside of the 3 point line."
   ]
  },
  {
   "cell_type": "markdown",
   "metadata": {},
   "source": [
    "## Problem 3\n",
    "\n",
    "__PSTAT 134 and 234__: How would you use the coefficients matrix $H$ from NMF  or the correlation matrix $R$ (computed above) to differentiate between types of players? Consider what the coefficients represent, and how you can use them to discriminate player types.\n",
    "\n",
    "Give your thought process, reasoning for your chosen method, and the results. Do they look reasonable? Do you expect any of the comparison to be similar to any of the [figures here](https://fastbreakdata.com/classifying-the-modern-nba-player-with-machine-learning-539da03bb824)? Why, or why not? Can you verify your intuition?"
   ]
  },
  {
   "cell_type": "markdown",
   "metadata": {},
   "source": [
    "### Answer"
   ]
  },
  {
   "cell_type": "markdown",
   "metadata": {},
   "source": [
    "We can use the coefficients of matrix H to compare players because H gives a coefficient for the different bases of each player so we can compare how some players are similar to others in different bases.  \n",
    "The correlation matrix R can also be used because this matrix gives the correlation of each single player to every other player. Thus we can see how similar one player is to another.  \n",
    "  \n",
    "We use clustering to create a chart that separates the players into different categories to see the players that are similar to each other. It is surprising to see that the players were broken down into 4 categories rather than 5 since the are 5 different positions in basketball, but that must mean that two positions in basketball are very similar to each other.  \n",
    "My comparison uses clustering just as the people on the link shown above, but we use different methods.  "
   ]
  },
  {
   "cell_type": "code",
   "execution_count": null,
   "metadata": {},
   "outputs": [],
   "source": [
    "from scipy.cluster.hierarchy import dendrogram, linkage\n",
    "from scipy.spatial.distance import pdist"
   ]
  },
  {
   "cell_type": "code",
   "execution_count": null,
   "metadata": {},
   "outputs": [],
   "source": [
    "Z = linkage(X.T,method='complete',metric='correlation') "
   ]
  },
  {
   "cell_type": "code",
   "execution_count": null,
   "metadata": {},
   "outputs": [],
   "source": [
    "# Plotting the clustering tree to see how many divisions are made\n",
    "fig, ax = plt.subplots()\n",
    "fig.set_size_inches(15, 10)\n",
    "plt.title('Hierarchical Clustering Dendrogram (truncated)')\n",
    "plt.xlabel('sample index')\n",
    "plt.ylabel('distance')\n",
    "dendrogram(\n",
    "    Z,\n",
    "    leaf_rotation=90.,  # rotates the x axis labels\n",
    "    leaf_font_size=8.,  # font size for the x axis labels\n",
    ")\n",
    "plt.show()"
   ]
  },
  {
   "cell_type": "code",
   "execution_count": null,
   "metadata": {},
   "outputs": [],
   "source": [
    "from scipy.cluster.hierarchy import fcluster\n",
    "no_max_clust = 10\n",
    "cluster_id = fcluster(Z,no_max_clust,criterion='maxclust')\n",
    "R_clust = np.corrcoef(X.T[np.argsort(cluster_id)])"
   ]
  },
  {
   "cell_type": "code",
   "execution_count": null,
   "metadata": {},
   "outputs": [],
   "source": [
    "fig, ax = plt.subplots()\n",
    "fig.set_size_inches(15, 10)\n",
    "ax = sns.heatmap(R_clust,cmap=\"Blues_r\")"
   ]
  },
  {
   "cell_type": "markdown",
   "metadata": {},
   "source": [
    "## Problem 4\n",
    "\n",
    "__PSTAT 134 and 234__: Suppose you are in charge of a basketball team. How would you use this information? How would you use what you have learned from analyzing the data, and what other questions would you like to answer with further analysis."
   ]
  },
  {
   "cell_type": "markdown",
   "metadata": {},
   "source": [
    "### Answer"
   ]
  },
  {
   "cell_type": "markdown",
   "metadata": {},
   "source": [
    "Using the information here would allow me to see the players that are similar to each other and that way I can see if players from whatever team we are going to play are similar to players we have played against and see what defensive techniques worked agaisnt those players. Also, with the components chart we can see the places were players are better at shooting and that way I can make my defense put more pressure on those spots.  \n",
    "\n",
    "Other questions I would want to answer with further analysis is how each player affects someone's ofense. The information here does not help me learn anything about the defensive skill of any player or how a player is affected in shooting by the presence of another player. These are things that would be very helpful in making a game plan and composing different plays."
   ]
  }
 ],
 "metadata": {
  "language_info": {
   "name": "python",
   "pygments_lexer": "ipython3"
  }
 },
 "nbformat": 4,
 "nbformat_minor": 2
}
