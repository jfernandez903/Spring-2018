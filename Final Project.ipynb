{
 "cells": [
  {
   "cell_type": "markdown",
   "metadata": {},
   "source": [
    "# Final Project\n",
    "## Predicting Defensive or Offensive NBA Players\n",
    "Tyler Nicholson, Jesus Fernandez, Rebecca Samouha, and Maria Carmen"
   ]
  },
  {
   "cell_type": "markdown",
   "metadata": {},
   "source": [
    "## Set Up"
   ]
  },
  {
   "cell_type": "code",
   "execution_count": null,
   "metadata": {},
   "outputs": [],
   "source": [
    "# Importing necessary packages\n",
    "import numpy as np\n",
    "import pandas as pd\n",
    "import seaborn as sns\n",
    "import matplotlib.pyplot as plt\n",
    "%matplotlib inline\n",
    "from ipywidgets import interact, FloatSlider, Dropdown, Button\n",
    "import statsmodels.api as sm\n",
    "import statsmodels.formula.api as smf\n",
    "\n",
    "def get_nba_data(endpt, params, return_url=False):\n",
    "\n",
    "    # endpt: https://github.com/seemethere/nba_py/wiki/stats.nba.com-Endpoint-Documentation\n",
    "    # params: dictionary of parameters: i.e., {'LeagueID':'00'}\n",
    "    from pandas import DataFrame\n",
    "    from urllib.parse import urlencode\n",
    "    import json\n",
    "    \n",
    "    useragent = \"\\\"Mozilla/5.0 (Macintosh; Intel Mac OS X 10_11_2) AppleWebKit/601.3.9 (KHTML, like Gecko) Version/9.0.2 Safari/601.3.9\\\"\"\n",
    "\n",
    "    dataurl = \"\\\"\" + \"http://stats.nba.com/stats/\" + endpt + \"?\" + urlencode(params) + \"\\\"\"\n",
    "    \n",
    "    # For debugging: just return the url\n",
    "    if return_url:\n",
    "        return(dataurl)\n",
    "    \n",
    "    jsonstr = !wget -q -O - --user-agent={useragent} {dataurl}\n",
    "    \n",
    "    data = json.loads(jsonstr[0])\n",
    "    \n",
    "    h = data['resultSets'][0]['headers']\n",
    "    d = data['resultSets'][0]['rowSet']\n",
    "    \n",
    "    return(DataFrame(d, columns=h))"
   ]
  },
  {
   "cell_type": "markdown",
   "metadata": {},
   "source": [
    "## Collecting Data"
   ]
  },
  {
   "cell_type": "code",
   "execution_count": null,
   "metadata": {},
   "outputs": [],
   "source": [
    "# Only using these 5 seasons because the 'leaguedashptdefend' endpoint only has data for these\n",
    "# seasons\n",
    "season_list = [str(one)+'-'+str(one+1)[2:] for one in range(2013, 2018)]\n",
    "season_list"
   ]
  },
  {
   "cell_type": "code",
   "execution_count": null,
   "metadata": {},
   "outputs": [],
   "source": [
    "params = {'LeagueID':'00', 'Season': '2017-18', 'IsOnlyCurrentSeason': '0'}\n",
    "players = get_nba_data('commonallplayers', params)"
   ]
  },
  {
   "cell_type": "code",
   "execution_count": null,
   "metadata": {},
   "outputs": [],
   "source": [
    "# SeasonType options: (Regular Season)|(Pre Season)|(Playoffs)|(All Star)\n",
    "# PerMode options: (Totals)|(PerGame)\n",
    "player_shot = []\n",
    "for i in season_list:\n",
    "    params = {'LeagueID':'00',\n",
    "              'PerMode':'Totals',\n",
    "              'Season':i,\n",
    "              'SeasonType':'Regular Season'}\n",
    "    player_shot.append(get_nba_data('leaguedashplayerptshot', params))"
   ]
  },
  {
   "cell_type": "code",
   "execution_count": null,
   "metadata": {},
   "outputs": [],
   "source": [
    "bio_stats = []\n",
    "for i in season_list:\n",
    "    params = {'LeagueID':'00',\n",
    "              'PerMode':'Totals',\n",
    "              'Season':i,\n",
    "              'SeasonType':'Regular Season'}\n",
    "    bio_stats.append(get_nba_data('leaguedashplayerbiostats', params))"
   ]
  },
  {
   "cell_type": "code",
   "execution_count": null,
   "metadata": {},
   "outputs": [],
   "source": [
    "#DefenseCategory Options: (Overall)|(3 Pointers)|(2 Pointers)|(Less Than 6Ft)\n",
    "#                         |(Less Than 10Ft)|(Greater Than 15Ft)\n",
    "pt_defended = []\n",
    "for i in season_list:\n",
    "    params = {'LeagueID':'00',\n",
    "              'PerMode':'Totals',\n",
    "              'Season': i,\n",
    "              'SeasonType':'Regular Season',\n",
    "              'DefenseCategory':'Overall'}\n",
    "    pt_defended.append(get_nba_data('leaguedashptdefend', params))"
   ]
  },
  {
   "cell_type": "code",
   "execution_count": null,
   "metadata": {},
   "outputs": [],
   "source": [
    "# Finding Net Rating for all players\n",
    "net_rating = []\n",
    "for i in season_list:\n",
    "    params = {'College':'',\n",
    "              'Conference':'',\n",
    "              'Country':'',\n",
    "              'DateFrom':'',\n",
    "              'DateTo':'',\n",
    "              'Division':'',\n",
    "              'DraftPick':'',\n",
    "              'DraftYear':'',\n",
    "              'GameScope':'',\n",
    "              'GameSegment':'',\n",
    "              'Height':'',\n",
    "              'LastNGames':'0',\n",
    "              'LeagueID':'00',\n",
    "              'Location':'',\n",
    "              'MeasureType':'Advanced',\n",
    "              'Month':'0',\n",
    "              'OpponentTeamID':'0',\n",
    "              'Outcome':'',\n",
    "              'PORound':'0',\n",
    "              'PaceAdjust':'N',\n",
    "              'PerMode':'Totals',\n",
    "              'Period':'0',\n",
    "              'PlayerExperience':'',\n",
    "              'PlayerPosition':'',\n",
    "              'PlusMinus':'N',\n",
    "              'Rank':'N',\n",
    "              'Season': i,\n",
    "              'SeasonSegment':'',\n",
    "              'SeasonType':'Regular Season',\n",
    "              'ShotClockRange':'',\n",
    "              'StarterBench':'',\n",
    "              'TeamID':'0',\n",
    "              'VsConference':'',\n",
    "              'VsDivision':'',\n",
    "              'Weight':''}\n",
    "    net_rating.append(get_nba_data('leaguedashplayerstats', params))"
   ]
  },
  {
   "cell_type": "markdown",
   "metadata": {},
   "source": [
    "## Cleaning up data into a single dataframe"
   ]
  },
  {
   "cell_type": "code",
   "execution_count": null,
   "metadata": {},
   "outputs": [],
   "source": [
    "for i in range(0,5):\n",
    "    player_shot[i]['SEASON'] = season_list[i]\n",
    "    bio_stats[i]['SEASON'] = season_list[i]\n",
    "    pt_defended[i]['SEASON'] = season_list[i]\n",
    "    net_rating[i]['SEASON'] = season_list[i]"
   ]
  },
  {
   "cell_type": "code",
   "execution_count": null,
   "metadata": {},
   "outputs": [],
   "source": [
    "player_shot_df = pd.concat(player_shot)\n",
    "bio_stats_df = pd.concat(bio_stats)\n",
    "pt_defended_df = pd.concat(pt_defended)\n",
    "net_rating_df = pd.concat(net_rating)"
   ]
  },
  {
   "cell_type": "code",
   "execution_count": null,
   "metadata": {},
   "outputs": [],
   "source": [
    "print(player_shot_df.shape)\n",
    "print(bio_stats_df.shape)\n",
    "print(pt_defended_df.shape)\n",
    "print(net_rating_df.shape)"
   ]
  },
  {
   "cell_type": "code",
   "execution_count": null,
   "metadata": {},
   "outputs": [],
   "source": [
    "player_shot_df = player_shot_df.drop(['PLAYER_NAME', 'PLAYER_LAST_TEAM_ID','GP', 'G',\n",
    "                                      'PLAYER_LAST_TEAM_ABBREVIATION', 'AGE'], axis = 1)\n",
    "\n",
    "bio_stats_df = bio_stats_df.drop(['PLAYER_NAME', 'TEAM_ID', 'TEAM_ABBREVIATION', 'AGE',\n",
    "                                  'PLAYER_HEIGHT','COLLEGE', 'COUNTRY', 'DRAFT_YEAR', \n",
    "                                  'DRAFT_ROUND', 'DRAFT_NUMBER'], axis = 1)\n",
    "\n",
    "pt_defended_df = pt_defended_df.drop(['PLAYER_NAME', 'PLAYER_LAST_TEAM_ID',\n",
    "                                      'PLAYER_LAST_TEAM_ABBREVIATION', 'PLAYER_POSITION', \n",
    "                                      'AGE','GP', 'G'], axis = 1)\n",
    "\n",
    "net_rating_df = net_rating_df.drop(['TEAM_ID','TEAM_ABBREVIATION','AGE','W','L','W_PCT',\n",
    "                                   'OFF_RATING', 'DEF_RATING', 'GP_RANK', 'W_RANK', 'L_RANK',\n",
    "                                   'W_PCT_RANK', 'MIN_RANK', 'OFF_RATING_RANK', \n",
    "                                   'DEF_RATING_RANK','NET_RATING_RANK', 'AST_PCT_RANK', \n",
    "                                   'AST_TO_RANK', 'AST_RATIO_RANK','OREB_PCT_RANK', \n",
    "                                   'DREB_PCT_RANK', 'REB_PCT_RANK', 'TM_TOV_PCT_RANK',\n",
    "                                   'EFG_PCT_RANK', 'TS_PCT_RANK', 'USG_PCT_RANK', 'PACE_RANK', \n",
    "                                   'PIE_RANK','FGM_RANK', 'FGA_RANK', 'FGM_PG_RANK', \n",
    "                                   'FGA_PG_RANK', 'FG_PCT_RANK','CFID', 'CFPARAMS','GP',\n",
    "                                   'OREB_PCT', 'DREB_PCT', 'NET_RATING','EFG_PCT','TS_PCT',\n",
    "                                   'USG_PCT','FGM', 'FGA','AST_PCT','FG_PCT'], axis = 1)"
   ]
  },
  {
   "cell_type": "code",
   "execution_count": null,
   "metadata": {},
   "outputs": [],
   "source": [
    "print(\"Player shot: \",player_shot_df.keys())\n",
    "print(\"       \")\n",
    "print(\"Bio stats: \",bio_stats_df.keys())\n",
    "print(\"       \")\n",
    "pt_defended_df = pt_defended_df.rename(columns={'CLOSE_DEF_PERSON_ID': 'PLAYER_ID'})\n",
    "print(\"Pt defended: \",pt_defended_df.keys())\n",
    "print(\"       \")\n",
    "print(\"Net rating: \",net_rating_df.keys())"
   ]
  },
  {
   "cell_type": "code",
   "execution_count": null,
   "metadata": {},
   "outputs": [],
   "source": [
    "player_shot_df = player_shot_df.sort_values(['PLAYER_ID','SEASON'])\n",
    "bio_stats_df = bio_stats_df.sort_values(['PLAYER_ID','SEASON'])\n",
    "pt_defended_df = pt_defended_df.sort_values(['PLAYER_ID','SEASON'])\n",
    "net_rating_df = net_rating_df.sort_values(['PLAYER_ID','SEASON'])"
   ]
  },
  {
   "cell_type": "code",
   "execution_count": null,
   "metadata": {},
   "outputs": [],
   "source": [
    "merge1 = pd.merge(player_shot_df,bio_stats_df, on = ['PLAYER_ID', 'SEASON'])"
   ]
  },
  {
   "cell_type": "code",
   "execution_count": null,
   "metadata": {},
   "outputs": [],
   "source": [
    "merge2 = pd.merge(merge1,pt_defended_df, on = ['PLAYER_ID', 'SEASON'])"
   ]
  },
  {
   "cell_type": "code",
   "execution_count": null,
   "metadata": {},
   "outputs": [],
   "source": [
    "final_df = pd.merge(merge2, net_rating_df, on = ['PLAYER_ID', 'SEASON'])"
   ]
  },
  {
   "cell_type": "code",
   "execution_count": null,
   "metadata": {},
   "outputs": [],
   "source": [
    "final_df.keys()"
   ]
  },
  {
   "cell_type": "code",
   "execution_count": null,
   "metadata": {},
   "outputs": [],
   "source": [
    "cols = ['SEASON', 'PLAYER_NAME', 'PLAYER_ID',  'PLAYER_HEIGHT_INCHES', 'PLAYER_WEIGHT',\n",
    "        'GP', 'MIN','NET_RATING', 'PIE', 'PACE', 'PTS', 'TS_PCT','FGA_FREQUENCY', 'FGA_PG', \n",
    "        'FGM', 'FGA', 'FG_PCT', 'FGM_PG', 'EFG_PCT', 'FG2A_FREQUENCY', 'FG2M', 'FG2A', \n",
    "        'FG2_PCT', 'FG3A_FREQUENCY', 'FG3M', 'FG3A', 'FG3_PCT', 'AST', 'AST_PCT', 'AST_TO', \n",
    "        'AST_RATIO', 'REB', 'OREB_PCT', 'DREB_PCT', 'REB_PCT', 'D_FGM', 'D_FGA', 'D_FG_PCT', \n",
    "        'FREQ', 'USG_PCT', 'NORMAL_FG_PCT', 'PCT_PLUSMINUS', 'TM_TOV_PCT']"
   ]
  },
  {
   "cell_type": "code",
   "execution_count": null,
   "metadata": {},
   "outputs": [],
   "source": [
    "final_df = final_df[cols]"
   ]
  },
  {
   "cell_type": "code",
   "execution_count": null,
   "metadata": {},
   "outputs": [],
   "source": [
    "final_df.loc[(final_df.NET_RATING > 0 ), 'NET_RATING'] = 1 # Offensive Player\n",
    "final_df.loc[(final_df.NET_RATING < 0 ), 'NET_RATING'] = 0 # Defensive Player"
   ]
  },
  {
   "cell_type": "code",
   "execution_count": null,
   "metadata": {},
   "outputs": [],
   "source": [
    "final_df['NET_RATING'] = final_df['NET_RATING'].astype(int)\n",
    "final_df['PLAYER_ID'] = final_df['PLAYER_ID'].astype(str)"
   ]
  },
  {
   "cell_type": "code",
   "execution_count": null,
   "metadata": {},
   "outputs": [],
   "source": [
    "final_df = final_df.drop(['FREQ','FGA_FREQUENCY'], axis = 1) # Same value for all obs"
   ]
  },
  {
   "cell_type": "code",
   "execution_count": null,
   "metadata": {},
   "outputs": [],
   "source": [
    "final_df.head()"
   ]
  },
  {
   "cell_type": "code",
   "execution_count": null,
   "metadata": {},
   "outputs": [],
   "source": [
    "cor = final_df.corr(method = 'pearson')\n",
    "cor"
   ]
  },
  {
   "cell_type": "markdown",
   "metadata": {},
   "source": [
    "## Dealing with missing values"
   ]
  },
  {
   "cell_type": "code",
   "execution_count": null,
   "metadata": {},
   "outputs": [],
   "source": [
    "final_df.columns[final_df.isnull().any()].tolist()"
   ]
  },
  {
   "cell_type": "code",
   "execution_count": null,
   "metadata": {},
   "outputs": [],
   "source": [
    "# has missing values and we can use other variables to capture that information\n",
    "final_df = final_df.drop(['FG2_PCT', 'FG3_PCT'], axis = 1) "
   ]
  },
  {
   "cell_type": "code",
   "execution_count": null,
   "metadata": {},
   "outputs": [],
   "source": [
    "final_df.loc[final_df.isnull().any(axis=1)[final_df.isnull().any(axis=1) \n",
    "                                                     == True].index.tolist()]"
   ]
  },
  {
   "cell_type": "code",
   "execution_count": null,
   "metadata": {},
   "outputs": [],
   "source": [
    "final_df.loc[final_df['PLAYER_NAME'] == 'Elliot Williams']"
   ]
  },
  {
   "cell_type": "code",
   "execution_count": null,
   "metadata": {},
   "outputs": [],
   "source": [
    "final_df.loc[1070,'PLAYER_HEIGHT_INCHES'] = 77.0\n",
    "final_df.loc[1070,'PLAYER_WEIGHT'] = 185"
   ]
  },
  {
   "cell_type": "code",
   "execution_count": null,
   "metadata": {},
   "outputs": [],
   "source": [
    "final_df.loc[final_df['PLAYER_NAME'] == 'Jeff Adrien']"
   ]
  },
  {
   "cell_type": "code",
   "execution_count": null,
   "metadata": {},
   "outputs": [],
   "source": [
    "final_df.loc[1136,'PLAYER_HEIGHT_INCHES'] = 79.0\n",
    "final_df.loc[1136,'PLAYER_WEIGHT'] = 245"
   ]
  },
  {
   "cell_type": "code",
   "execution_count": null,
   "metadata": {},
   "outputs": [],
   "source": [
    "final_df.loc[final_df['PLAYER_NAME'] == 'Patrick Christopher']"
   ]
  },
  {
   "cell_type": "code",
   "execution_count": null,
   "metadata": {},
   "outputs": [],
   "source": [
    "final_df.loc[1816,'PLAYER_HEIGHT_INCHES'] = 77.0\n",
    "final_df.loc[1816,'PLAYER_WEIGHT'] = 209"
   ]
  },
  {
   "cell_type": "code",
   "execution_count": null,
   "metadata": {},
   "outputs": [],
   "source": [
    "final_df.loc[final_df['PLAYER_NAME'] == 'Will Cherry']"
   ]
  },
  {
   "cell_type": "code",
   "execution_count": null,
   "metadata": {},
   "outputs": [],
   "source": [
    "final_df.loc[1835,'PLAYER_HEIGHT_INCHES'] = 73.0\n",
    "final_df.loc[1835,'PLAYER_WEIGHT'] = 181"
   ]
  },
  {
   "cell_type": "code",
   "execution_count": null,
   "metadata": {},
   "outputs": [],
   "source": [
    "final_df.dtypes"
   ]
  },
  {
   "cell_type": "code",
   "execution_count": null,
   "metadata": {},
   "outputs": [],
   "source": [
    "final_df['PLAYER_WEIGHT'] = final_df['PLAYER_WEIGHT'].astype(int)"
   ]
  },
  {
   "cell_type": "code",
   "execution_count": null,
   "metadata": {},
   "outputs": [],
   "source": [
    "final_df.isnull().any().any()"
   ]
  },
  {
   "cell_type": "code",
   "execution_count": null,
   "metadata": {},
   "outputs": [],
   "source": [
    "final_df_copy = final_df.copy()"
   ]
  },
  {
   "cell_type": "code",
   "execution_count": null,
   "metadata": {},
   "outputs": [],
   "source": [
    "final_df_copy.head()"
   ]
  },
  {
   "cell_type": "markdown",
   "metadata": {},
   "source": [
    "## Getting Training set and Test set"
   ]
  },
  {
   "cell_type": "code",
   "execution_count": null,
   "metadata": {},
   "outputs": [],
   "source": [
    "# Got code from Evidation Health Notebooks\n",
    "\n",
    "final_df_copy.MIN.hist()\n",
    "plt.title('Minutest Played Distribution')\n",
    "plt.xlabel('Minutes')"
   ]
  },
  {
   "cell_type": "code",
   "execution_count": null,
   "metadata": {},
   "outputs": [],
   "source": [
    "final_df_copy.GP.hist()\n",
    "plt.title('Games Played Distribution')\n",
    "plt.xlabel('Games Played')"
   ]
  },
  {
   "cell_type": "markdown",
   "metadata": {},
   "source": [
    "Since the stats given will be greater for a player that has played more games and also more minutes we want to separate the number of games played and minutes played into bins to take into account when making our training and test sets."
   ]
  },
  {
   "cell_type": "code",
   "execution_count": null,
   "metadata": {},
   "outputs": [],
   "source": [
    "# Create numbers of games played bins\n",
    "min_bins = [x*10 for x in range(6)]\n",
    "# Create a new variable that designates a number of games played to a bin\n",
    "final_df_copy['min_bin'] = pd.cut(final_df_copy.MIN, bins=min_bins)\n",
    "\n",
    "# Create numbers of games played bins\n",
    "game_bins = [x*10 for x in range(10)]\n",
    "# Create a new variable that designates a number of games played to a bin\n",
    "final_df_copy['game_bin'] = pd.cut(final_df_copy.GP, bins=game_bins)"
   ]
  },
  {
   "cell_type": "code",
   "execution_count": null,
   "metadata": {},
   "outputs": [],
   "source": [
    "final_df_copy.game_bin.value_counts().sort_index().plot(kind='barh')"
   ]
  },
  {
   "cell_type": "code",
   "execution_count": null,
   "metadata": {},
   "outputs": [],
   "source": [
    "final_df_copy.min_bin.value_counts().sort_index().plot(kind='barh')"
   ]
  },
  {
   "cell_type": "code",
   "execution_count": null,
   "metadata": {},
   "outputs": [],
   "source": [
    "# Specify our test proportion\n",
    "test_frac = 0.2\n",
    "\n",
    "# Conduct random stratified sampling and get a set of test ids\n",
    "test_indices = final_df_copy.groupby(['GP', 'game_bin', 'min_bin'])\n",
    "test_indices = test_indices.apply(lambda df: df.sample(frac=test_frac,random_state=2)).index.unique()\n",
    "for i in range(0,len(test_indices)):\n",
    "    test_indices[i] = test_indices[i][3]"
   ]
  },
  {
   "cell_type": "code",
   "execution_count": null,
   "metadata": {},
   "outputs": [],
   "source": [
    "# Check everything worked out\n",
    "(len(test_indices) / final_df_copy.index.nunique())"
   ]
  },
  {
   "cell_type": "code",
   "execution_count": null,
   "metadata": {},
   "outputs": [],
   "source": [
    "# Next, extract train ids\n",
    "train_indices = final_df_copy[~final_df_copy.index.isin(test_indices)].index.unique()\n",
    "\n",
    "# QC check\n",
    "len(train_indices) / final_df_copy.index.nunique()"
   ]
  },
  {
   "cell_type": "code",
   "execution_count": null,
   "metadata": {},
   "outputs": [],
   "source": [
    "len(set(train_indices).intersection(set(test_indices))) == 0"
   ]
  },
  {
   "cell_type": "code",
   "execution_count": null,
   "metadata": {},
   "outputs": [],
   "source": [
    "# Test set\n",
    "test_set = final_df_copy.loc[test_indices]\n",
    "\n",
    "# Train set\n",
    "train_set = final_df_copy.loc[train_indices]"
   ]
  },
  {
   "cell_type": "markdown",
   "metadata": {},
   "source": [
    "## GLM"
   ]
  },
  {
   "cell_type": "code",
   "execution_count": null,
   "metadata": {},
   "outputs": [],
   "source": [
    "fitted_model = smf.glm(formula = 'NET_RATING ~ PLAYER_HEIGHT_INCHES + PLAYER_WEIGHT + GP + MIN + PIE + PACE + PTS + TS_PCT + FGA_PG + FGM + FGA + FG_PCT + FGM_PG + EFG_PCT + FG2A_FREQUENCY + FG2M + FG2A + FG3A_FREQUENCY + FG3M + FG3A + AST + AST_PCT + AST_TO + AST_RATIO + REB + OREB_PCT + DREB_PCT + REB_PCT + D_FGM + D_FGA + D_FG_PCT + USG_PCT + NORMAL_FG_PCT + PCT_PLUSMINUS + TM_TOV_PCT',\n",
    "                        data = final_df_copy, \n",
    "                        family = sm.families.Binomial()).fit()"
   ]
  },
  {
   "cell_type": "code",
   "execution_count": null,
   "metadata": {},
   "outputs": [],
   "source": [
    "fitted_model.summary()"
   ]
  },
  {
   "cell_type": "code",
   "execution_count": null,
   "metadata": {},
   "outputs": [],
   "source": []
  }
 ],
 "metadata": {
  "language_info": {
   "name": "python",
   "pygments_lexer": "ipython3"
  }
 },
 "nbformat": 4,
 "nbformat_minor": 2
}
