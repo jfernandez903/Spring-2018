{
 "cells": [
  {
   "cell_type": "code",
   "execution_count": null,
   "metadata": {},
   "outputs": [],
   "source": []
  },
  {
   "cell_type": "code",
   "execution_count": null,
   "metadata": {},
   "outputs": [],
   "source": [
    "import pandas as pd\n",
    "import numpy as np \n",
    "\n",
    "def get_nba_data(endpt, params, return_url=False):\n",
    "\n",
    "    ## endpt: https://github.com/seemethere/nba_py/wiki/stats.nba.com-Endpoint-Documentation\n",
    "    ## params: dictionary of parameters: i.e., {'LeagueID':'00'}\n",
    "    from pandas import DataFrame\n",
    "    from urllib.parse import urlencode\n",
    "    import json\n",
    "    \n",
    "    useragent = \"\\\"Mozilla/5.0 (Macintosh; Intel Mac OS X 10_11_2) AppleWebKit/601.3.9 (KHTML, like Gecko) Version/9.0.2 Safari/601.3.9\\\"\"\n",
    "\n",
    "    dataurl = \"\\\"\" + \"http://stats.nba.com/stats/\" + endpt + \"?\" + urlencode(params) + \"\\\"\"\n",
    "    \n",
    "    # for debugging: just return the url\n",
    "    if return_url:\n",
    "        return(dataurl)\n",
    "    \n",
    "    jsonstr = !wget -q -O - --user-agent={useragent} {dataurl}\n",
    "    \n",
    "    data = json.loads(jsonstr[0])\n",
    "    \n",
    "    h = data['resultSets'][0]['headers']\n",
    "    d = data['resultSets'][0]['rowSet']\n",
    "    \n",
    "    return(DataFrame(d, columns=h))\n",
    "   "
   ]
  },
  {
   "cell_type": "code",
   "execution_count": null,
   "metadata": {},
   "outputs": [],
   "source": [
    "# Create dictionary of all seasons\n",
    "params = {'LeagueID':\"00\"}\n",
    "draft = get_nba_data('drafthistory',params)\n",
    "season = list(np.unique(draft.SEASON))\n",
    "for i in range(0,len(season)):\n",
    "    if i < 70:\n",
    "        season[i] = season[i] + '-' + season[i+1][-2:]\n",
    "    else:\n",
    "        season[i] = season[i] + '-18'    \n",
    "\n",
    "season_dd = dict(zip(season,season))\n",
    "season_dd"
   ]
  },
  {
   "cell_type": "code",
   "execution_count": null,
   "metadata": {},
   "outputs": [],
   "source": [
    "## get all teams\n",
    "params = {'LeagueID':'00'}\n",
    "teams = get_nba_data('commonTeamYears', params)\n",
    "\n",
    "## get all players\n",
    "params = {'LeagueID':'00', 'Season': '2016-17', 'IsOnlyCurrentSeason': '0'}\n",
    "players = get_nba_data('commonallplayers', params)\n",
    "\n",
    "teams.ABBREVIATION = teams.ABBREVIATION.astype('category')\n",
    "teams.TEAM_ID      = teams.TEAM_ID.astype('category')\n",
    "teams.MIN_YEAR     = teams.MIN_YEAR.astype('int')\n",
    "teams.MAX_YEAR     = teams.MAX_YEAR.astype('int')\n",
    "\n",
    "teams = teams[teams.MAX_YEAR == 2017]\n",
    "teams['TEAM_AGE'] = teams.MAX_YEAR - teams.MIN_YEAR\n",
    "\n",
    "teams_clean = teams.copy() ## make a copy for later\n",
    "teams"
   ]
  },
  {
   "cell_type": "code",
   "execution_count": null,
   "metadata": {},
   "outputs": [],
   "source": [
    "team_names = players[['TEAM_ABBREVIATION', 'TEAM_CODE']].drop_duplicates()#.set_index('TEAM_ABBREVIATION')\n",
    "\n",
    "teams = pd.merge(teams_clean, team_names, left_on='ABBREVIATION', right_on='TEAM_ABBREVIATION')\n",
    "teams"
   ]
  },
  {
   "cell_type": "code",
   "execution_count": null,
   "metadata": {},
   "outputs": [],
   "source": [
    "teams.TEAM_CODE = teams.TEAM_CODE.str.capitalize() # returns values so needs to be reassigned\n",
    "teams.sort_values('ABBREVIATION', inplace=True)    # modifies object\n",
    "\n",
    "## get all players by season\n",
    "players_by_season_dd = dict()\n",
    "\n",
    "for i in season:\n",
    "    params = {'LeagueID':'00', 'Season': i, 'IsOnlyCurrentSeason': '0'}\n",
    "    players = get_nba_data('commonallplayers', params)\n",
    "\n",
    "    players = players[players.TEAM_ID.isin(teams.TEAM_ID)]\n",
    "\n",
    "    players_by_season_dd[i] = dict(zip(players.DISPLAY_LAST_COMMA_FIRST, players.PERSON_ID))\n"
   ]
  },
  {
   "cell_type": "code",
   "execution_count": null,
   "metadata": {},
   "outputs": [],
   "source": [
    "players_by_season_dd['2016-17']"
   ]
  },
  {
   "cell_type": "code",
   "execution_count": null,
   "metadata": {},
   "outputs": [],
   "source": [
    "# create dictionary for the teams in each season\n",
    "teams_by_season_dd = dict()\n",
    "helper = list(map(int,list(np.unique(draft.SEASON))))\n",
    "\n",
    "for i in range(0,len(helper)):\n",
    "    team_copy = teams.copy()\n",
    "    team_copy = team_copy[team_copy.MIN_YEAR <= helper[i]]\n",
    "    \n",
    "    team_dd_text = team_copy.TEAM_ABBREVIATION+', '+team_copy.TEAM_CODE\n",
    "    team_dd = dict(zip(team_dd_text, team_copy.TEAM_ID))\n",
    "    teams_by_season_dd[season[i]] = team_dd\n"
   ]
  },
  {
   "cell_type": "code",
   "execution_count": null,
   "metadata": {},
   "outputs": [],
   "source": [
    "teams_by_season_dd['1947-48']"
   ]
  },
  {
   "cell_type": "markdown",
   "metadata": {},
   "source": [
    "## Problem 2"
   ]
  },
  {
   "cell_type": "code",
   "execution_count": null,
   "metadata": {},
   "outputs": [],
   "source": [
    "from ipywidgets import interact, FloatSlider, Dropdown, Button\n",
    "\n",
    "selected = 'BOS, Celtics'\n",
    "selected_opponent = 'NYK, Knicks'\n",
    "selected_season = '2016-17'\n",
    "\n",
    "season_menu = Dropdown(options=players_by_season_dd.keys(), value = selected_season)\n",
    "\n",
    "team_menu = Dropdown(options=teams_by_season_dd[season_dd[selected_season]], label = selected)\n",
    "opposing_team = Dropdown(options=teams_by_season_dd[season_dd[selected_season]], \n",
    "                         label = selected_opponent)\n",
    "\n",
    "plyr_menu = Dropdown(options=players_by_season_dd[season_dd[selected_season]])\n",
    "\n",
    "fetch_button = Button(description='Get Data!', icon='check')\n",
    "\n",
    "display(season_menu,team_menu,plyr_menu, opposing_team, fetch_button)\n",
    "\n",
    "def get_data(change):\n",
    "    #print(season_menu.value,team_menu.value, plyr_menu.value,opposing_team.value)\n",
    "    params = {'PlayerID': plyr_menu.value,\n",
    "          'PlayerPosition':'',\n",
    "          'Season': season_menu.value,\n",
    "          'ContextMeasure':'FGA',\n",
    "          'DateFrom':'',\n",
    "          'DateTo':'',\n",
    "          'GameID':'',\n",
    "          'GameSegment':'',\n",
    "          'LastNGames':'0',\n",
    "          'LeagueID':'00',\n",
    "          'Location':'',\n",
    "          'Month':'0',\n",
    "          'OpponentTeamID': '0',\n",
    "          'Outcome':'',\n",
    "          'Period':'0',\n",
    "          'Position':'',\n",
    "          'RookieYear':'',\n",
    "          'SeasonSegment':'',\n",
    "          'SeasonType':'Regular Season',\n",
    "          'TeamID': team_menu.value,\n",
    "          'VsConference':'',\n",
    "          'VsDivision':''}\n",
    "\n",
    "    print(get_nba_data('shotchartdetail', params))\n",
    "    \n",
    "fetch_button.on_click(get_data)\n"
   ]
  },
  {
   "cell_type": "code",
   "execution_count": null,
   "metadata": {},
   "outputs": [],
   "source": [
    "team_menu.options = teams_by_season_dd[season_dd['2017-18']]\n",
    "team_menu.value"
   ]
  },
  {
   "cell_type": "code",
   "execution_count": null,
   "metadata": {},
   "outputs": [],
   "source": [
    "season_menu.observe"
   ]
  },
  {
   "cell_type": "markdown",
   "metadata": {},
   "source": [
    "## Problem 3"
   ]
  },
  {
   "cell_type": "code",
   "execution_count": null,
   "metadata": {},
   "outputs": [],
   "source": [
    "from ipywidgets import *\n",
    "\n",
    "selected_season = '2016-17'\n",
    "\n",
    "season_menu = Dropdown(options=season_dd, label = selected_season)\n",
    "opposing_team_menu = Dropdown(options=teams_by_season_dd[season_dd[selected_season]])\n",
    "plyr_menu = Dropdown(options=players_by_season_dd[season_dd[selected_season]])\n",
    "\n",
    "fetch_button = Button(description='Get Data!', icon='check')\n",
    "\n",
    "display(season_menu,opposing_team_menu,plyr_menu, fetch_button)\n",
    "\n",
    "# Update teams lists\n",
    "def update_season(change):\n",
    "    plyr_menu.index = None\n",
    "    plyr_menu.options = players_by_season_dd[change['new']]\n",
    "    opposing_team_menu.index = None\n",
    "    opposing_team_menu.options = teams_by_season_dd[change['new']]\n",
    "\n",
    "season_menu.observe(update_season, names = 'values')\n",
    "\n",
    "\n",
    "#team_menu.observe(update_team, names='value')\n",
    "\n",
    "## get data action\n",
    "def get_data(change):\n",
    "    #print(season_menu.value,team_menu.value, plyr_menu.value,opposing_team.value)\n",
    "    params = {'PlayerID': plyr_menu.value,\n",
    "          'PlayerPosition':'',\n",
    "          'Season': season_menu.value,\n",
    "          'ContextMeasure':'FGA',\n",
    "          'DateFrom':'',\n",
    "          'DateTo':'',\n",
    "          'GameID':'',\n",
    "          'GameSegment':'',\n",
    "          'LastNGames':'0',\n",
    "          'LeagueID':'00',\n",
    "          'Location':'',\n",
    "          'Month':'0',\n",
    "          'OpponentTeamID': opposing_team_menu.value,\n",
    "          'Outcome':'',\n",
    "          'Period':'0',\n",
    "          'Position':'',\n",
    "          'RookieYear':'',\n",
    "          'SeasonSegment':'',\n",
    "          'SeasonType':'Regular Season',\n",
    "          'TeamID': '0',\n",
    "          'VsConference':'',\n",
    "          'VsDivision':''}\n",
    "\n",
    "    print(get_nba_data('shotchartdetail', params))\n",
    "    \n",
    "fetch_button.on_click(get_data)"
   ]
  },
  {
   "cell_type": "code",
   "execution_count": null,
   "metadata": {},
   "outputs": [],
   "source": []
  }
 ],
 "metadata": {
  "language_info": {
   "name": "python",
   "pygments_lexer": "ipython3"
  }
 },
 "nbformat": 4,
 "nbformat_minor": 2
}
