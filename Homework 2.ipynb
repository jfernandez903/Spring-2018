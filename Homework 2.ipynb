{
 "cells": [
  {
   "cell_type": "code",
   "execution_count": null,
   "metadata": {},
   "outputs": [],
   "source": [
    "import pandas as pd\n",
    "\n",
    "def get_nba_data(endpt, params, return_url=False):\n",
    "\n",
    "    ## endpt: https://github.com/seemethere/nba_py/wiki/stats.nba.com-Endpoint-Documentation\n",
    "    ## params: dictionary of parameters: i.e., {'LeagueID':'00'}\n",
    "    from pandas import DataFrame\n",
    "    from urllib.parse import urlencode\n",
    "    import json\n",
    "    \n",
    "    useragent = \"\\\"Mozilla/5.0 (Macintosh; Intel Mac OS X 10_11_2) AppleWebKit/601.3.9 (KHTML, like Gecko) Version/9.0.2 Safari/601.3.9\\\"\"\n",
    "\n",
    "    dataurl = \"\\\"\" + \"http://stats.nba.com/stats/\" + endpt + \"?\" + urlencode(params) + \"\\\"\"\n",
    "    \n",
    "    # for debugging: just return the url\n",
    "    if return_url:\n",
    "        return(dataurl)\n",
    "    \n",
    "    jsonstr = !wget -q -O - --user-agent={useragent} {dataurl}\n",
    "    \n",
    "    data = json.loads(jsonstr[0])\n",
    "    \n",
    "    h = data['resultSets'][0]['headers']\n",
    "    d = data['resultSets'][0]['rowSet']\n",
    "    \n",
    "    return(DataFrame(d, columns=h))"
   ]
  },
  {
   "cell_type": "code",
   "execution_count": null,
   "metadata": {},
   "outputs": [],
   "source": [
    "## get all teams\n",
    "params = {'LeagueID':'00'}\n",
    "teams = get_nba_data('commonTeamYears', params)\n",
    "\n",
    "## get all players\n",
    "params = {'LeagueID':'00', 'Season': '2016-17', 'IsOnlyCurrentSeason': '0'}\n",
    "players = get_nba_data('commonallplayers', params)"
   ]
  },
  {
   "cell_type": "code",
   "execution_count": null,
   "metadata": {},
   "outputs": [],
   "source": [
    "abbr = teams.ABBREVIATION.copy()\n",
    "abbr is teams.ABBREVIATION"
   ]
  },
  {
   "cell_type": "code",
   "execution_count": null,
   "metadata": {},
   "outputs": [],
   "source": [
    "teams"
   ]
  },
  {
   "cell_type": "code",
   "execution_count": null,
   "metadata": {},
   "outputs": [],
   "source": [
    "temp = teams.copy()\n",
    "\n",
    "print(temp['MIN_YEAR'].head())\n",
    "print(temp.MIN_YEAR.head())"
   ]
  },
  {
   "cell_type": "code",
   "execution_count": null,
   "metadata": {},
   "outputs": [],
   "source": [
    "temp['new_column_1'] = temp.MAX_YEAR\n",
    "temp.new_column_2 = temp.MAX_YEAR\n",
    "temp.head()"
   ]
  },
  {
   "cell_type": "code",
   "execution_count": null,
   "metadata": {},
   "outputs": [],
   "source": [
    "teams.ABBREVIATION = teams.ABBREVIATION.astype('category')\n",
    "teams.TEAM_ID      = teams.TEAM_ID.astype('category')\n",
    "teams.MIN_YEAR     = teams.MIN_YEAR.astype('int')\n",
    "teams.MAX_YEAR     = teams.MAX_YEAR.astype('int')"
   ]
  },
  {
   "cell_type": "code",
   "execution_count": null,
   "metadata": {},
   "outputs": [],
   "source": [
    "teams = teams[teams.MAX_YEAR == 2017]\n",
    "teams['TEAM_AGE'] = teams.MAX_YEAR - teams.MIN_YEAR\n",
    "\n",
    "teams_clean = teams.copy() ## make a copy for later\n",
    "teams"
   ]
  },
  {
   "cell_type": "code",
   "execution_count": null,
   "metadata": {},
   "outputs": [],
   "source": [
    "players = players[players.TEAM_ID.isin(teams.TEAM_ID)]\n",
    "players.tail()"
   ]
  },
  {
   "cell_type": "code",
   "execution_count": null,
   "metadata": {},
   "outputs": [],
   "source": [
    "players.groupby('TEAM_CODE')"
   ]
  },
  {
   "cell_type": "code",
   "execution_count": null,
   "metadata": {},
   "outputs": [],
   "source": [
    "team_names = players[['TEAM_ABBREVIATION', 'TEAM_CODE']].drop_duplicates()#.set_index('TEAM_ABBREVIATION')\n"
   ]
  },
  {
   "cell_type": "code",
   "execution_count": null,
   "metadata": {},
   "outputs": [],
   "source": [
    "teams = pd.merge(teams_clean, team_names, left_on='ABBREVIATION', right_on='TEAM_ABBREVIATION')\n",
    "teams"
   ]
  },
  {
   "cell_type": "code",
   "execution_count": null,
   "metadata": {},
   "outputs": [],
   "source": [
    "teams.TEAM_CODE = teams.TEAM_CODE.str.capitalize() # returns values so needs to be reassigned\n",
    "teams.sort_values('ABBREVIATION', inplace=True)    # modifies object"
   ]
  },
  {
   "cell_type": "code",
   "execution_count": null,
   "metadata": {},
   "outputs": [],
   "source": [
    "team_dd_text = teams.TEAM_ABBREVIATION+', '+teams.TEAM_CODE\n",
    "team_dd = dict(zip(team_dd_text, teams.TEAM_ID))\n",
    "team_dd"
   ]
  },
  {
   "cell_type": "code",
   "execution_count": null,
   "metadata": {},
   "outputs": [],
   "source": [
    "plyr_by_team_dd = dict()\n",
    "\n",
    "for t, p in players.groupby('TEAM_ID'):\n",
    "    \n",
    "    plyr_by_team_dd[t] = dict(zip(p.DISPLAY_LAST_COMMA_FIRST, p.PERSON_ID))\n",
    "\n",
    "plyr_by_team_dd"
   ]
  },
  {
   "cell_type": "code",
   "execution_count": null,
   "metadata": {},
   "outputs": [],
   "source": [
    "plyr_dd_text = players.DISPLAY_LAST_COMMA_FIRST\n",
    "plyr_dd_id = players.PERSON_ID\n",
    "plyr_dd = dict(zip(plyr_dd_text, plyr_dd_id))\n",
    "plyr_dd"
   ]
  },
  {
   "cell_type": "code",
   "execution_count": null,
   "metadata": {},
   "outputs": [],
   "source": [
    "from ipywidgets import interact, FloatSlider, Dropdown, Button\n",
    "\n",
    "selected = 'LAC, Clippers'\n",
    "\n",
    "team_menu = Dropdown(options=team_dd, label=selected)\n",
    "plyr_menu = Dropdown(options=plyr_by_team_dd[team_dd[selected]])\n",
    "\n",
    "display(team_menu, plyr_menu)\n",
    "\n",
    "def update_team(change):\n",
    "    plyr_menu.options = plyr_by_team_dd[change['new']]\n",
    "\n",
    "team_menu.observe(update_team, names='value')"
   ]
  },
  {
   "cell_type": "code",
   "execution_count": null,
   "metadata": {},
   "outputs": [],
   "source": []
  }
 ],
 "metadata": {
  "language_info": {
   "name": "python",
   "pygments_lexer": "ipython3"
  }
 },
 "nbformat": 4,
 "nbformat_minor": 2
}
